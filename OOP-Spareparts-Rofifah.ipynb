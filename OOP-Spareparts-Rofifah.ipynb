{
 "cells": [
  {
   "cell_type": "code",
   "execution_count": null,
   "metadata": {},
   "outputs": [],
   "source": [
    "#Nama : Rofifah Nurul Annisa"
   ]
  },
  {
   "cell_type": "code",
   "execution_count": 1,
   "metadata": {},
   "outputs": [
    {
     "name": "stdout",
     "output_type": "stream",
     "text": [
      "======Program Memasukkan Data Spareparts Computer======\n",
      "1. Data Processor\n",
      "Pabrikan : Intel\n",
      "Nama : Core i9\n",
      "Harga : 5000\n",
      "Jumlah Core : 9\n",
      "Speed : 4.2Ghz\n",
      "\n",
      "2. Data RAM\n",
      "pabrikan :V-Gen\n",
      "Nama :DDR4 SODimm 0909\n",
      "Harga:2500\n",
      "Kapasitas :8Gb\n",
      "\n",
      "3. Data HDD\n",
      "pabrikan :Samsung\n",
      "Nama :HDD Volume 3\n",
      "Harga:2250\n",
      "Kapasitas :512Gb\n",
      "RPM : 7200\n",
      "\n",
      "\n",
      "=======================================================\n",
      "Processor Core i9 produksi  Intel\n",
      "RAM DDR4 SODimm 0909 produksi  V-Gen\n",
      "HDD HDD Volume 3 produksi  Samsung\n"
     ]
    }
   ],
   "source": [
    "class computerPart:\n",
    "    def __init__(self,jenis,pabrikan,nama,harga):\n",
    "        self.jenis=jenis\n",
    "        self.pabrikan=pabrikan\n",
    "        self.nama=nama\n",
    "        self.harga=harga\n",
    "         \n",
    "class processor(computerPart):   \n",
    "    def __init__(self):\n",
    "        jenis = \"Processor\"\n",
    "        print(\"1. Data Processor\")\n",
    "        pabrikan = input(\"Pabrikan : \")\n",
    "        nama = input(\"Nama : \")\n",
    "        harga = input(\"Harga : \")\n",
    "        self.jumlahCore = input(\"Jumlah Core : \")\n",
    "        self.speed = input(\"Speed : \")\n",
    "        super().__init__(jenis,pabrikan,nama,harga)\n",
    "\n",
    "class ram(computerPart):\n",
    "    def __init__(self):\n",
    "        jenis = \"RAM\"\n",
    "        print(\"\\n2. Data RAM\")\n",
    "        pabrikan = input(\"pabrikan :\")\n",
    "        nama = input(\"Nama :\")\n",
    "        harga = input(\"Harga:\")\n",
    "        self.kapasitas = input(\"Kapasitas :\")\n",
    "        super().__init__(jenis,pabrikan,nama,harga)\n",
    "    \n",
    "\n",
    "class hdd(computerPart):\n",
    "    def __init__(self):\n",
    "        jenis= \"HDD\"\n",
    "        print(\"\\n3. Data HDD\")\n",
    "        pabrikan = input(\"pabrikan :\")\n",
    "        nama = input(\"Nama :\")\n",
    "        harga = input(\"Harga:\")\n",
    "        self.kapasitas = input(\"Kapasitas :\")\n",
    "        self.rpm = input(\"RPM : \")\n",
    "        super().__init__(jenis,pabrikan,nama,harga)\n",
    "\n",
    "print(\"======Program Memasukkan Data Spareparts Computer======\")\n",
    "processor = processor()\n",
    "ram = ram()\n",
    "hdd = hdd()\n",
    "print(\"\\n\")\n",
    "print(\"=======================================================\")\n",
    "\n",
    "lists = [processor,ram,hdd]       \n",
    "for i in lists:\n",
    "    print(i.jenis, i.nama, \"produksi \", i.pabrikan)"
   ]
  },
  {
   "cell_type": "code",
   "execution_count": null,
   "metadata": {},
   "outputs": [],
   "source": []
  }
 ],
 "metadata": {
  "kernelspec": {
   "display_name": "Python 3",
   "language": "python",
   "name": "python3"
  },
  "language_info": {
   "codemirror_mode": {
    "name": "ipython",
    "version": 3
   },
   "file_extension": ".py",
   "mimetype": "text/x-python",
   "name": "python",
   "nbconvert_exporter": "python",
   "pygments_lexer": "ipython3",
   "version": "3.7.4"
  }
 },
 "nbformat": 4,
 "nbformat_minor": 2
}
