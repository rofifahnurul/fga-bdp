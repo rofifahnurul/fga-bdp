{
 "cells": [
  {
   "cell_type": "code",
   "execution_count": 1,
   "metadata": {},
   "outputs": [
    {
     "name": "stdout",
     "output_type": "stream",
     "text": [
      "Jumlah orang yang ingin diinput datanya :2\n",
      "Masukkan nama anda :Budi\n",
      "Masukkan berat anda (kg):65\n",
      "Masukkan tinggi anda (cm):160\n",
      "Masukkan nama anda :Lulu\n",
      "Masukkan berat anda (kg):48\n",
      "Masukkan tinggi anda (cm):155\n",
      "================================\n",
      "Nama :  Budi\n",
      "Tinggi :  160.0\n",
      "Berat :  65.0\n",
      "Nilai BMI :  25.390624999999996\n",
      "Status :  Berat Badan Lebih\n",
      "================================\n",
      "Nama :  Lulu\n",
      "Tinggi :  155.0\n",
      "Berat :  48.0\n",
      "Nilai BMI :  19.979188345473464\n",
      "Status :  Berat Badan Ideal\n"
     ]
    }
   ],
   "source": [
    "#Nama : Rofifah Nurul Annisa\n",
    "#No.Registrasi : 01123956260-7\n",
    "#Latihan Numpy Menghitung BMI\n",
    "import numpy as np\n",
    "\n",
    "tinggi = []\n",
    "berat = []\n",
    "nama = []\n",
    "\n",
    "a = int(input(\"Jumlah orang yang ingin diinput datanya :\"))\n",
    "\n",
    "for i in range(a):\n",
    "    nama.append(input(\"Masukkan nama anda :\"))\n",
    "    berat.append(float(input(\"Masukkan berat anda (kg):\")))\n",
    "    tinggi.append(float(input(\"Masukkan tinggi anda (cm):\")))\n",
    "    \n",
    "tinggi_np = np.array(tinggi)\n",
    "berat_np = np.array(berat)\n",
    "\n",
    "\n",
    "\n",
    "#diubah ke meter\n",
    "tinggi_np = tinggi_np/100\n",
    "\n",
    "\n",
    "BMI = np.array(berat_np / (tinggi_np**2))\n",
    "\n",
    "for i in range (tinggi_np.size):\n",
    "    print(\"================================\")\n",
    "    print(\"Nama : \", nama[i])\n",
    "    print(\"Tinggi : \", tinggi[i])\n",
    "    print(\"Berat : \", berat[i])\n",
    "    status=\"\"\n",
    "\n",
    "    if BMI[i] < 18.4:\n",
    "        status=\"Berat Badan Kurang\"\n",
    "    elif BMI[i] >= 18.5 and BMI[i] <= 24.9:\n",
    "        status = \"Berat Badan Ideal\"\n",
    "    elif BMI[i] >=25 and BMI[i] <=29.9 :\n",
    "        status = \"Berat Badan Lebih\"\n",
    "    elif BMI[i] >= 30 and BMI[i] <= 39.9:\n",
    "        status =\"Gemuk\"\n",
    "    else :\n",
    "        status = \"Sangat Gemuk\"\n",
    "    print(\"Nilai BMI : \", BMI[i])\n",
    "    print(\"Status : \", status)\n"
   ]
  },
  {
   "cell_type": "code",
   "execution_count": 2,
   "metadata": {},
   "outputs": [
    {
     "name": "stdout",
     "output_type": "stream",
     "text": [
      "Matriks A : \n",
      "[[3 1 7]\n",
      " [5 1 4]]\n",
      "Matriks B : \n",
      "[[5 9 3]\n",
      " [5 3 5]\n",
      " [4 8 2]]\n",
      "Hasil kalinya yaitu \n",
      "[[48 86 28]\n",
      " [46 80 28]]\n",
      "Hasil transposenya yaitu \n",
      "[[48 46]\n",
      " [86 80]\n",
      " [28 28]]\n",
      "Rata-ratanya yaitu:  52.666666666666664\n",
      "Mediannya yaitu: 47.0\n"
     ]
    }
   ],
   "source": [
    "#Tugas Latihan Numpy (Matriks)\n",
    "import numpy as np\n",
    "matriksA= np.random.randint(10,size = (2,3))\n",
    "matriksB= np.random.randint(10,size = (3,3))\n",
    "\n",
    "print(\"Matriks A : \\n{}\".format(matriksA))\n",
    "print(\"Matriks B : \\n{}\".format(matriksB))\n",
    "\n",
    "hasilKali = np.dot(matriksA,matriksB)\n",
    "print(\"Hasil kalinya yaitu \\n{}\".format(hasilKali))\n",
    "\n",
    "hasilKaliTranspose=np.transpose(hasilKali)\n",
    "print(\"Hasil transposenya yaitu \\n{}\".format(hasilKaliTranspose))\n",
    "\n",
    "ratarata = np.mean(hasilKaliTranspose)\n",
    "print(\"Rata-ratanya yaitu: \",ratarata)\n",
    "\n",
    "median = np.median(hasilKaliTranspose)\n",
    "print(\"Mediannya yaitu:\",median)"
   ]
  },
  {
   "cell_type": "code",
   "execution_count": null,
   "metadata": {},
   "outputs": [],
   "source": []
  }
 ],
 "metadata": {
  "kernelspec": {
   "display_name": "Python 3",
   "language": "python",
   "name": "python3"
  },
  "language_info": {
   "codemirror_mode": {
    "name": "ipython",
    "version": 3
   },
   "file_extension": ".py",
   "mimetype": "text/x-python",
   "name": "python",
   "nbconvert_exporter": "python",
   "pygments_lexer": "ipython3",
   "version": "3.7.4"
  }
 },
 "nbformat": 4,
 "nbformat_minor": 2
}
